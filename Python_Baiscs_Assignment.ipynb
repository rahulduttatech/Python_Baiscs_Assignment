{
  "nbformat": 4,
  "nbformat_minor": 0,
  "metadata": {
    "colab": {
      "provenance": [],
      "authorship_tag": "ABX9TyONvk7jmX0bXbAX9BTRhbPS"
    },
    "kernelspec": {
      "name": "python3",
      "display_name": "Python 3"
    },
    "language_info": {
      "name": "python"
    }
  },
  "cells": [
    {
      "cell_type": "markdown",
      "source": [
        "**Q1. Explain the key features of python that make it propular choice for programming.**"
      ],
      "metadata": {
        "id": "EX5t80xwGR7s"
      }
    },
    {
      "cell_type": "markdown",
      "source": [
        "Ans1. Python is super popular for a bunch of reasons! Here are some key features that really stand out:\n",
        "\n",
        "1. Easy to Read and Write: Python has a clean and simple syntax, which makes it really easy for beginners to learn and for experienced developers to write code quickly.\n",
        "\n",
        "2. Versatile and Flexible: You can use Python for web development, data analysis, artificial intelligence, automation, and more. It’s like a Swiss Army knife for programming!\n",
        "\n",
        "3. Large Standard Library: Python comes with a huge library of modules and packages that help you perform many tasks without having to write code from scratch.\n",
        "\n",
        "4. Strong Community Support: There’s a massive community of Python developers who contribute to forums, tutorials, and libraries, so help is always available.\n",
        "\n",
        "5. Cross-Platform Compatibility: Python runs on different operating systems like Windows, macOS, and Linux, making it very versatile.\n",
        "\n",
        "6. Dynamic Typing: You don’t have to declare variable types explicitly, which speeds up coding and allows for more flexibility.\n",
        "\n",
        "7. Great for Prototyping: Thanks to its simplicity, you can quickly turn ideas into prototypes, which is super useful in fast-paced development environments.\n",
        "\n",
        "\n",
        "Overall, these features make Python not just user-friendly but also powerful for various applications!\n",
        "\n",
        "\n",
        "\n"
      ],
      "metadata": {
        "id": "lQyzjKJBIAk4"
      }
    },
    {
      "cell_type": "markdown",
      "source": [
        "**Q2. Describe the role of predefined keywords in python and provide examples of how they are used in a program.**"
      ],
      "metadata": {
        "id": "zMmeXahXH82h"
      }
    },
    {
      "cell_type": "markdown",
      "source": [
        "Ans2. Predefined keywords in Python are reserved words that have specific meanings within the language. They cannot be used as variable names or identifiers. These keywords are essential for defining the structure and functionality of Python programs.\n",
        "\n",
        "**Examples of Predefined Keywords and Their Uses:**\n",
        "\n",
        "**1. if, else, elif:** These keywords are used for conditional statements to execute different code blocks based on specific conditions."
      ],
      "metadata": {
        "id": "5MWe_itrKLyg"
      }
    },
    {
      "cell_type": "code",
      "source": [
        "if x > 0:\n",
        "    print(\"x is positive\")\n",
        "elif x == 0:\n",
        "    print(\"x is zero\")\n",
        "else:\n",
        "    print(\"x is negative\")"
      ],
      "metadata": {
        "id": "a2yOgmVTMhHc"
      },
      "execution_count": null,
      "outputs": []
    },
    {
      "cell_type": "markdown",
      "source": [
        "**2. for, while:** These keywords are used for loops to iterate over a sequence of values or execute a block of code repeatedly until a condition is met."
      ],
      "metadata": {
        "id": "_V1mVE3_Mp6S"
      }
    },
    {
      "cell_type": "code",
      "execution_count": null,
      "metadata": {
        "id": "aCa6iW9IGJBB"
      },
      "outputs": [],
      "source": [
        "for i in range(5):\n",
        "    print(i)\n",
        "\n",
        "while x < 10:\n",
        "    x += 1"
      ]
    },
    {
      "cell_type": "markdown",
      "source": [
        "**3. def:** This keyword is used to define functions, which are reusable blocks of code that can be called multiple times."
      ],
      "metadata": {
        "id": "UnxZOEtCNA1W"
      }
    },
    {
      "cell_type": "code",
      "source": [
        "def greet(name):\n",
        "    print(\"Hello, \" + name + \"!\")\n",
        "\n",
        "greet(\"Alice\")"
      ],
      "metadata": {
        "id": "mlWMTQlxNJEj"
      },
      "execution_count": null,
      "outputs": []
    },
    {
      "cell_type": "markdown",
      "source": [
        "4. **import:** This keyword is used to import modules or packages that contain predefined functions and classes."
      ],
      "metadata": {
        "id": "GKaDvQurNNPw"
      }
    },
    {
      "cell_type": "code",
      "source": [
        "import math\n",
        "\n",
        "result = math.sqrt(4)\n",
        "print(result)"
      ],
      "metadata": {
        "id": "ot80MC2qNTac"
      },
      "execution_count": null,
      "outputs": []
    },
    {
      "cell_type": "markdown",
      "source": [
        "**5. and, or, not:** These keywords are used for logical operations to combine or negate conditions."
      ],
      "metadata": {
        "id": "GlqzPI5fNYDj"
      }
    },
    {
      "cell_type": "code",
      "source": [
        "if x > 0 and y > 0:\n",
        "    print(\"Both x and y are positive\")"
      ],
      "metadata": {
        "id": "NmCqLxdvNtYs"
      },
      "execution_count": null,
      "outputs": []
    },
    {
      "cell_type": "markdown",
      "source": [
        "These are just a few examples of the many predefined keywords in Python. Understanding their roles and usage is crucial for writing effective and efficient Python programs."
      ],
      "metadata": {
        "id": "PWYGkQdgNw-N"
      }
    },
    {
      "cell_type": "markdown",
      "source": [
        "**Q3. Compare and contrast mutable and immutable objects in python with examples.**"
      ],
      "metadata": {
        "id": "Z0Zwx80HN2zV"
      }
    },
    {
      "cell_type": "markdown",
      "source": [
        "Ans3. In Python, objects can be categorized as mutable or immutable based on whether their state can be changed after they are created. Here’s a breakdown of both:\n",
        "\n",
        "**Mutable Objects**\n",
        "**Definition:** Mutable objects can be changed after their creation. This means you can modify their content without creating a new object.\n",
        "\n",
        "**Examples:** Lists, dictionaries, sets."
      ],
      "metadata": {
        "id": "Yngt4AWoXXvN"
      }
    },
    {
      "cell_type": "code",
      "source": [
        "# Mutable object: List\n",
        "my_list = [1, 2, 3]\n",
        "print(my_list)  # Output: [1, 2, 3]\n",
        "\n",
        "my_list.append(4)  # Modifying the list\n",
        "print(my_list)  # Output: [1, 2, 3, 4]\n"
      ],
      "metadata": {
        "id": "D-RRZ_l_XzPf"
      },
      "execution_count": null,
      "outputs": []
    },
    {
      "cell_type": "markdown",
      "source": [
        "**Immutable Objects**\n",
        "**Definition:** Immutable objects cannot be changed after they are created. Any modification creates a new object instead.\n",
        "\n",
        "**Examples:** Strings, tuples, frozensets."
      ],
      "metadata": {
        "id": "vFotOA9DX12O"
      }
    },
    {
      "cell_type": "code",
      "source": [
        "# Immutable object: String\n",
        "my_string = \"Hello\"\n",
        "print(my_string)  # Output: Hello\n",
        "\n",
        "my_string += \" World\"  # Creates a new string\n",
        "print(my_string)  # Output: Hello World\n",
        "\n",
        "# Original string remains unchanged\n"
      ],
      "metadata": {
        "id": "-X0tz8Q7YARs"
      },
      "execution_count": null,
      "outputs": []
    },
    {
      "cell_type": "markdown",
      "source": [
        "**Comparison**\n",
        "\n",
        "**1. Modification:**\n",
        "\n",
        "**Mutable:** Can be changed in place.\n",
        "\n",
        "**Immutable:** Changes create a new object.\n",
        "\n",
        "**2. Performance:**\n",
        "\n",
        "**Mutable:** More efficient for large data structures since they can be modified without creating new copies.\n",
        "\n",
        "**Immutable:** Can be less efficient for frequent modifications because each change results in a new object.\n",
        "\n",
        "**3. Use Cases:**\n",
        "\n",
        "**Mutable:** Used when you need to modify data frequently, like in lists or dictionaries.\n",
        "\n",
        "**Immutable:** Used for fixed data that shouldn’t change, like keys in dictionaries or constant values."
      ],
      "metadata": {
        "id": "_mTTRwPvYFVz"
      }
    },
    {
      "cell_type": "markdown",
      "source": [
        "**Summary**\n",
        "\n",
        "In summary, mutable objects can be changed without creating a new instance, while immutable objects cannot be altered once created. Understanding this distinction is essential for managing memory and performance in your Python programs!"
      ],
      "metadata": {
        "id": "cjCt864FZM_8"
      }
    },
    {
      "cell_type": "markdown",
      "source": [
        "**Q4. Discuss the different types of operators in Python and provide examples of how they are used.**"
      ],
      "metadata": {
        "id": "o60RIDCZbFSx"
      }
    },
    {
      "cell_type": "markdown",
      "source": [
        "Ans4. In Python, operators are special symbols that perform operations on variables and values. Here are the main types of operators along with examples for each:\n",
        "\n",
        "**1. Arithmetic Operators**\n",
        "These operators perform basic mathematical operations.\n",
        "\n",
        "**Example:**"
      ],
      "metadata": {
        "id": "oT2u9Gk9bnPn"
      }
    },
    {
      "cell_type": "code",
      "source": [
        "a = 10\n",
        "b = 5\n",
        "\n",
        "print(a + b)  # Addition: 15\n",
        "print(a - b)  # Subtraction: 5\n",
        "print(a * b)  # Multiplication: 50\n",
        "print(a / b)  # Division: 2.0\n",
        "print(a % b)  # Modulus: 0\n",
        "print(a ** b) # Exponentiation: 100000\n",
        "print(a // b) # Floor Division: 2\n"
      ],
      "metadata": {
        "id": "-KhKmgZgd6W1"
      },
      "execution_count": null,
      "outputs": []
    },
    {
      "cell_type": "markdown",
      "source": [
        "**2. Comparison Operators**\n",
        "\n",
        "These operators compare two values and return a boolean result (True or False).\n",
        "\n",
        "**Example:**\n",
        "\n"
      ],
      "metadata": {
        "id": "3bChg6WLd3Kv"
      }
    },
    {
      "cell_type": "code",
      "source": [
        "x = 10\n",
        "y = 20\n",
        "\n",
        "print(x == y)  # Equal to: False\n",
        "print(x != y)  # Not equal to: True\n",
        "print(x > y)   # Greater than: False\n",
        "print(x < y)   # Less than: True\n",
        "print(x >= y)  # Greater than or equal to: False\n",
        "print(x <= y)  # Less than or equal to: True\n"
      ],
      "metadata": {
        "id": "YIK2r5_YeXrw"
      },
      "execution_count": null,
      "outputs": []
    },
    {
      "cell_type": "markdown",
      "source": [
        "**3. Logical Operators**\n",
        "\n",
        "These operators are used to combine conditional statements.\n",
        "\n",
        "**Example:**"
      ],
      "metadata": {
        "id": "PU2UbRqJebG7"
      }
    },
    {
      "cell_type": "code",
      "source": [
        "a = True\n",
        "b = False\n",
        "\n",
        "print(a and b)  # Logical AND: False\n",
        "print(a or b)   # Logical OR: True\n",
        "print(not a)    # Logical NOT: False\n"
      ],
      "metadata": {
        "id": "yqqweJJkelaL"
      },
      "execution_count": null,
      "outputs": []
    },
    {
      "cell_type": "markdown",
      "source": [
        "**4. Assignment Operators**\n",
        "\n",
        "These operators are used to assign values to variables.\n",
        "\n",
        "**Example:**"
      ],
      "metadata": {
        "id": "xgszF__2en-a"
      }
    },
    {
      "cell_type": "code",
      "source": [
        "c = 5\n",
        "c += 2  # Equivalent to c = c + 2\n",
        "print(c)  # Output: 7\n",
        "\n",
        "c *= 3  # Equivalent to c = c * 3\n",
        "print(c)  # Output: 21\n"
      ],
      "metadata": {
        "id": "oyb1xwsFev8r"
      },
      "execution_count": null,
      "outputs": []
    },
    {
      "cell_type": "markdown",
      "source": [
        "**5. Bitwise Operators**\n",
        "\n",
        "These operators perform bit-level operations on integers.\n",
        "\n",
        "**Example:**"
      ],
      "metadata": {
        "id": "5fW5h6VCezHp"
      }
    },
    {
      "cell_type": "code",
      "source": [
        "x = 10  # 1010 in binary\n",
        "y = 4   # 0100 in binary\n",
        "\n",
        "print(x & y)  # Bitwise AND: 0 (0000)\n",
        "print(x | y)  # Bitwise OR: 14 (1110)\n",
        "print(x ^ y)  # Bitwise XOR: 14 (1110)\n",
        "print(~x)     # Bitwise NOT: -11\n",
        "print(x << 1) # Left Shift: 20 (10100)\n",
        "print(x >> 1) # Right Shift: 5 (0101)\n"
      ],
      "metadata": {
        "id": "vrW1NXYqe7Iz"
      },
      "execution_count": null,
      "outputs": []
    },
    {
      "cell_type": "markdown",
      "source": [
        "**6. Identity Operators**\n",
        "\n",
        "These operators check if two variables point to the same object in memory.\n",
        "\n",
        "**Example:**"
      ],
      "metadata": {
        "id": "Q3gWVK_ze9-x"
      }
    },
    {
      "cell_type": "code",
      "source": [
        "a = [1, 2, 3]\n",
        "b = a\n",
        "c = list(a)\n",
        "\n",
        "print(a is b)  # True, both point to the same object\n",
        "print(a is c)  # False, c is a new object\n",
        "print(a == c)  # True, they have the same content\n"
      ],
      "metadata": {
        "id": "ZEL16Dc-fEpj"
      },
      "execution_count": null,
      "outputs": []
    },
    {
      "cell_type": "markdown",
      "source": [
        "**7. Membership Operators**\n",
        "\n",
        "These operators check for membership in sequences like lists, strings, or tuples.\n",
        "\n",
        "**Examples:**"
      ],
      "metadata": {
        "id": "Qms-uAK3fMel"
      }
    },
    {
      "cell_type": "code",
      "source": [
        "my_list = [1, 2, 3, 4]\n",
        "\n",
        "print(2 in my_list)  # True\n",
        "print(5 not in my_list)  # True\n"
      ],
      "metadata": {
        "id": "TsOEeOcLfTRI"
      },
      "execution_count": null,
      "outputs": []
    },
    {
      "cell_type": "markdown",
      "source": [
        "These operators allow you to perform a wide variety of operations in Python, from basic arithmetic to more complex logical and bitwise operations. Understanding how to use them effectively is essential for writing efficient Python code!"
      ],
      "metadata": {
        "id": "aCL7f5yqfWqo"
      }
    },
    {
      "cell_type": "markdown",
      "source": [
        "**Q5. Explain the concept of type casting in Python with examples.**"
      ],
      "metadata": {
        "id": "AbBg2dmKfaDU"
      }
    },
    {
      "cell_type": "markdown",
      "source": [
        "Ans5. Type casting in Python refers to the process of converting a variable from one data type to another. This is useful when you need to perform operations that require specific data types. There are two types of type casting: implicit and explicit.\n",
        "\n",
        "**1. Implicit Type Casting**\n",
        "\n",
        "This happens automatically when Python converts a smaller data type to a larger data type. For example, converting an integer to a float."
      ],
      "metadata": {
        "id": "_69BFr4wgO9p"
      }
    },
    {
      "cell_type": "code",
      "source": [
        "# Implicit type casting\n",
        "num_int = 5      # Integer\n",
        "num_float = num_int + 2.5  # Automatically converted to float\n",
        "\n",
        "print(num_float)  # Output: 7.5\n",
        "print(type(num_float))  # Output: <class 'float'>\n"
      ],
      "metadata": {
        "id": "hIK4TV4YgTB8"
      },
      "execution_count": null,
      "outputs": []
    },
    {
      "cell_type": "markdown",
      "source": [
        "**2. Explicit Type Casting**\n",
        "\n",
        "This is when you manually convert one data type to another using built-in functions like int(), float(), str(), etc."
      ],
      "metadata": {
        "id": "czldelYagVHf"
      }
    },
    {
      "cell_type": "code",
      "source": [
        "# Explicit type casting\n",
        "# Convert float to integer\n",
        "num_float = 10.75\n",
        "num_int = int(num_float)  # This will truncate the decimal part\n",
        "\n",
        "print(num_int)  # Output: 10\n",
        "print(type(num_int))  # Output: <class 'int'>\n",
        "\n",
        "# Convert integer to string\n",
        "num_string = str(num_int)\n",
        "\n",
        "print(num_string)  # Output: \"10\"\n",
        "print(type(num_string))  # Output: <class 'str'>\n",
        "\n",
        "# Convert string to integer\n",
        "str_num = \"25\"\n",
        "num_from_str = int(str_num)\n",
        "\n",
        "print(num_from_str)  # Output: 25\n",
        "print(type(num_from_str))  # Output: <class 'int'>\n"
      ],
      "metadata": {
        "id": "SV0bxlOjgaMs"
      },
      "execution_count": null,
      "outputs": []
    },
    {
      "cell_type": "markdown",
      "source": [
        "Type casting is a fundamental concept in Python that allows you to convert between different data types, enabling you to perform operations that require specific types. Implicit casting happens automatically, while explicit casting requires you to use functions to convert data types intentionally. Understanding how to use type casting effectively is crucial for handling data in Python!"
      ],
      "metadata": {
        "id": "CrQIORX1geLT"
      }
    },
    {
      "cell_type": "markdown",
      "source": [
        "**Q6. How do conditional statements work in Python? Illustrate with examples.**\n"
      ],
      "metadata": {
        "id": "thhDO8oIgmna"
      }
    },
    {
      "cell_type": "markdown",
      "source": [
        "Ans6. Conditional statements allow you to control the flow of your program based on certain conditions. They help you make decisions and execute different code blocks depending on whether a specific condition is true or false.\n",
        "\n",
        "**Types of Conditional Statements:**\n",
        "\n",
        "**1. if:** Executes a block of code if a condition is true.\n",
        "\n",
        "**2. else:** Executes a block of code if the condition in the if statement is false.\n",
        "\n",
        "**3. elif:** Executes a block of code if the previous if or elif conditions were false and the current condition is true.\n",
        "\n",
        "**Example:**"
      ],
      "metadata": {
        "id": "Uf6w3sUMg3vs"
      }
    },
    {
      "cell_type": "code",
      "source": [
        "age = 18\n",
        "\n",
        "if age >= 18:\n",
        "    print(\"You are an adult.\")\n",
        "else:\n",
        "    print(\"You are a minor.\")"
      ],
      "metadata": {
        "id": "kgSh_55XgiDN"
      },
      "execution_count": null,
      "outputs": []
    },
    {
      "cell_type": "markdown",
      "source": [
        "In this example, the code checks if the age is greater than or equal to 18. If it is, it prints \"You are an adult.\" Otherwise, it prints \"You are a minor.\"\n",
        "\n",
        "**Nested Conditional Statements:**\n",
        "\n",
        "You can also nest conditional statements within each other to create more complex decision-making logic.\n",
        "\n",
        "**Example:**"
      ],
      "metadata": {
        "id": "OcDbZHwej7KE"
      }
    },
    {
      "cell_type": "code",
      "source": [
        "grade = 85\n",
        "\n",
        "if grade >= 90:\n",
        "    print(\"Excellent!\")\n",
        "elif grade >= 80:\n",
        "    print(\"Good job!\")\n",
        "else:\n",
        "    print(\"Needs improvement.\")"
      ],
      "metadata": {
        "id": "MYlOVzwlkBqF"
      },
      "execution_count": null,
      "outputs": []
    },
    {
      "cell_type": "markdown",
      "source": [
        "This code checks the grade and prints a corresponding message based on its value.\n",
        "\n",
        "**Key Points:**\n",
        "\n",
        "1. The condition in an if statement must evaluate to a boolean value (True or False).\n",
        "\n",
        "2. You can use comparison operators (==, !=, >, <, >=, <=) and logical operators (and, or, not) to create complex conditions.\n",
        "\n",
        "3. The elif statement is optional and can be used multiple times.\n",
        "\n",
        "4. The else statement is optional and is executed if none of the previous if or elif conditions are true.\n",
        "\n",
        "\n",
        "By effectively using conditional statements, you can write programs that adapt to different situations and make intelligent decisions.\n"
      ],
      "metadata": {
        "id": "Bl7jJ8xOkFkb"
      }
    },
    {
      "cell_type": "markdown",
      "source": [
        "**Q7. Describe the different types of loops in Python and their use cases with examples.**"
      ],
      "metadata": {
        "id": "Trop6xGPkjVT"
      }
    },
    {
      "cell_type": "markdown",
      "source": [
        "Ans7. Loops are programming constructs that allow you to repeatedly execute a block of code until a certain condition is met. Python provides two main types of loops: **for** loops and **while** loops.\n",
        "\n",
        "**1. for Loops**\n",
        "\n",
        "**Use Cases:**\n",
        "\n",
        "a. Iterating over sequences (lists, tuples, strings, dictionaries).\n",
        "\n",
        "b. Generating a range of numbers.\n",
        "\n",
        "\n",
        "**Syntax:**"
      ],
      "metadata": {
        "id": "z1eS5rXTl6D4"
      }
    },
    {
      "cell_type": "code",
      "source": [
        "for element in sequence:\n",
        "    # Code to be executed"
      ],
      "metadata": {
        "id": "IvfwhH9imKdd"
      },
      "execution_count": null,
      "outputs": []
    },
    {
      "cell_type": "markdown",
      "source": [
        "**Example:**\n",
        "\n",
        "\n"
      ],
      "metadata": {
        "id": "BdO1wWJombBu"
      }
    },
    {
      "cell_type": "code",
      "source": [
        "fruits = [\"apple\", \"banana\", \"orange\"]\n",
        "for fruit in fruits:\n",
        "    print(fruit)"
      ],
      "metadata": {
        "id": "wCPufe32lPS-"
      },
      "execution_count": null,
      "outputs": []
    },
    {
      "cell_type": "markdown",
      "source": [
        "**2. while Loops**\n",
        "\n",
        "**Use Cases:**\n",
        "\n",
        "a. Repeating a block of code as long as a condition is true.\n",
        "\n",
        "b. Implementing indefinite loops (e.g., user input until a specific value is entered).\n",
        "\n",
        "\n",
        "**Syntax:**"
      ],
      "metadata": {
        "id": "eXZsaqbGmhMR"
      }
    },
    {
      "cell_type": "code",
      "source": [
        "while condition:\n",
        "    # Code to be executed"
      ],
      "metadata": {
        "id": "h6FwGJdXmutV"
      },
      "execution_count": null,
      "outputs": []
    },
    {
      "cell_type": "markdown",
      "source": [
        "**Example:**"
      ],
      "metadata": {
        "id": "qVltne2Sm4Dl"
      }
    },
    {
      "cell_type": "code",
      "source": [
        "count = 0\n",
        "while count < 5:\n",
        "    print(count)\n",
        "    count += 1"
      ],
      "metadata": {
        "id": "DHya7apGm2rK"
      },
      "execution_count": null,
      "outputs": []
    },
    {
      "cell_type": "markdown",
      "source": [
        "**Additional Loop Constructs**\n",
        "\n",
        "**1. break:** Exits the loop immediately.\n",
        "\n",
        "**2. continue:** Skips the current iteration and proceeds to the next one.\n",
        "\n",
        "**3. else clause:** Executes if the loop completes normally without encountering a break statement.\n",
        "\n",
        "**Example with break and continue:**"
      ],
      "metadata": {
        "id": "Rtqz93KgnBVG"
      }
    },
    {
      "cell_type": "code",
      "source": [
        "numbers = [1, 2, 3, 4, 5]\n",
        "for number in numbers:\n",
        "    if number == 3:\n",
        "        continue  # Skip the rest of the iteration\n",
        "    if number > 4:\n",
        "        break  # Exit the loop\n",
        "    print(number)"
      ],
      "metadata": {
        "id": "dLJbAqC_neHX"
      },
      "execution_count": null,
      "outputs": []
    },
    {
      "cell_type": "markdown",
      "source": [
        "**Choosing the Right Loop**\n",
        "\n",
        "1. Use for loops when you know the number of iterations in advance or want to iterate over a sequence.\n",
        "\n",
        "2. Use while loops when you need to repeat a block of code until a condition is met, regardless of the number of iterations.\n",
        "\n",
        "By understanding and effectively using loops, you can write more efficient and concise Python code."
      ],
      "metadata": {
        "id": "_e2t1IjIngj-"
      }
    }
  ]
}